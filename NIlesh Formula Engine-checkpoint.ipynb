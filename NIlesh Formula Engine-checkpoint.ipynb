{
 "cells": [
  {
   "cell_type": "markdown",
   "id": "1464628f",
   "metadata": {},
   "source": [
    "# FORMULA ENGINE FOR MATHS OPERATION OF TWO OR MORE VARIABLES"
   ]
  },
  {
   "cell_type": "markdown",
   "id": "6120afeb",
   "metadata": {},
   "source": [
    "NOW WE WILL DO MATHS OPERATION WITH BASIC FOR (X+Y)^2 AND (X-Y)^2"
   ]
  },
  {
   "cell_type": "code",
   "execution_count": 1,
   "id": "acf18a81",
   "metadata": {},
   "outputs": [
    {
     "name": "stdout",
     "output_type": "stream",
     "text": [
      " pls enter the formula (x+y)**2\n",
      " pls enter the value1 20\n",
      " pls enter the value2  10\n",
      "(x+y)**2\n",
      "val x 20 val y 10\n",
      "900\n"
     ]
    }
   ],
   "source": [
    "import parser\n",
    "from math import sin\n",
    "formula2=input(\" pls enter the formula \")\n",
    "\n",
    "code2=parser.expr(formula2).compile()\n",
    "x=int(input(\" pls enter the value1 \"))\n",
    "y=int(input(\" pls enter the value2  \"))\n",
    "print(formula2)\n",
    "print(\"val x\",x,\"val y\",y)\n",
    "print(eval(code2))"
   ]
  },
  {
   "cell_type": "code",
   "execution_count": 2,
   "id": "3c127971",
   "metadata": {},
   "outputs": [
    {
     "name": "stdout",
     "output_type": "stream",
     "text": [
      " pls enter the formula (x-y)**2\n",
      " pls enter the value1 20\n",
      " pls enter the value2  10\n",
      "(x-y)**2\n",
      "val x 20 val y 10\n",
      "100\n"
     ]
    }
   ],
   "source": [
    "import parser\n",
    "from math import sin\n",
    "formula2=input(\" pls enter the formula \")\n",
    "\n",
    "code2=parser.expr(formula2).compile()\n",
    "x=int(input(\" pls enter the value1 \"))\n",
    "y=int(input(\" pls enter the value2  \"))\n",
    "print(formula2)\n",
    "print(\"val x\",x,\"val y\",y)\n",
    "print(eval(code2))"
   ]
  },
  {
   "cell_type": "markdown",
   "id": "d1c5036b",
   "metadata": {},
   "source": [
    "BASIC FORMULA OF MATHS"
   ]
  },
  {
   "cell_type": "code",
   "execution_count": 3,
   "id": "816959d3",
   "metadata": {},
   "outputs": [
    {
     "name": "stdout",
     "output_type": "stream",
     "text": [
      " pls enter the formula x+y\n",
      " pls enter the value1 10\n",
      " pls enter the value2  20\n",
      "x+y\n",
      "val x 10 val y 20\n",
      "30\n"
     ]
    }
   ],
   "source": [
    "import parser\n",
    "from math import sin\n",
    "formula2=input(\" pls enter the formula \")\n",
    "\n",
    "code2=parser.expr(formula2).compile()\n",
    "x=int(input(\" pls enter the value1 \"))\n",
    "y=int(input(\" pls enter the value2  \"))\n",
    "print(formula2)\n",
    "print(\"val x\",x,\"val y\",y)\n",
    "print(eval(code2))"
   ]
  },
  {
   "cell_type": "code",
   "execution_count": 6,
   "id": "14fd3104",
   "metadata": {},
   "outputs": [
    {
     "name": "stdout",
     "output_type": "stream",
     "text": [
      " pls enter the formula x-y\n",
      " pls enter the value1 20\n",
      " pls enter the value2  10\n",
      "x-y\n",
      "val x 20 val y 10\n",
      "10\n"
     ]
    }
   ],
   "source": [
    "import parser\n",
    "from math import sin\n",
    "formula2=input(\" pls enter the formula \")\n",
    "\n",
    "code2=parser.expr(formula2).compile()\n",
    "x=int(input(\" pls enter the value1 \"))\n",
    "y=int(input(\" pls enter the value2  \"))\n",
    "print(formula2)\n",
    "print(\"val x\",x,\"val y\",y)\n",
    "print(eval(code2))"
   ]
  },
  {
   "cell_type": "markdown",
   "id": "7063f829",
   "metadata": {},
   "source": [
    "OPERATION WITH THREE VARABLES"
   ]
  },
  {
   "cell_type": "code",
   "execution_count": 5,
   "id": "8409554e",
   "metadata": {},
   "outputs": [
    {
     "name": "stdout",
     "output_type": "stream",
     "text": [
      " pls enter the formula (x+y+z)**2\n",
      " pls enter the value1 10\n",
      " pls enter the value2  20\n",
      "pls enter the value3 30\n",
      "(x+y+z)**2\n",
      "val x 10 val y 20 val z 30\n",
      "3600\n"
     ]
    }
   ],
   "source": [
    "import parser\n",
    "from math import sin\n",
    "formula2=input(\" pls enter the formula \")\n",
    "\n",
    "code2=parser.expr(formula2).compile()\n",
    "x=int(input(\" pls enter the value1 \"))\n",
    "y=int(input(\" pls enter the value2  \"))\n",
    "z=int(input(\"pls enter the value3 \"))\n",
    "print(formula2)\n",
    "print(\"val x\",x,\"val y\",y,\"val z\",z)\n",
    "print(eval(code2))"
   ]
  }
 ],
 "metadata": {
  "kernelspec": {
   "display_name": "Python 3 (ipykernel)",
   "language": "python",
   "name": "python3"
  },
  "language_info": {
   "codemirror_mode": {
    "name": "ipython",
    "version": 3
   },
   "file_extension": ".py",
   "mimetype": "text/x-python",
   "name": "python",
   "nbconvert_exporter": "python",
   "pygments_lexer": "ipython3",
   "version": "3.8.11"
  }
 },
 "nbformat": 4,
 "nbformat_minor": 5
}
